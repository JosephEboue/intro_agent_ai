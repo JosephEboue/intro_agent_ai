{
 "cells": [
  {
   "cell_type": "code",
   "execution_count": 28,
   "id": "80b4cbc9",
   "metadata": {},
   "outputs": [
    {
     "data": {
      "text/plain": [
       "True"
      ]
     },
     "execution_count": 28,
     "metadata": {},
     "output_type": "execute_result"
    }
   ],
   "source": [
    "import requests\n",
    "import json\n",
    "import subprocess\n",
    "import re\n",
    "import os\n",
    "\n",
    "from dotenv import load_dotenv\n",
    "load_dotenv()\n"
   ]
  },
  {
   "cell_type": "code",
   "execution_count": 29,
   "id": "d7b32c57",
   "metadata": {},
   "outputs": [],
   "source": [
    "def generateText(prompt: str) -> str:\n",
    "    api_url = \"https://api.mistral.ai/v1/chat/completions\"\n",
    "    api_key = os.getenv(\"MISTRAL_API_KEY\")\n",
    "    headers = {\n",
    "        \"Authorization\": f\"Bearer {api_key}\",\n",
    "        \"Content-Type\": \"application/json\"\n",
    "    }\n",
    "    data = {\n",
    "        \"model\": \"mistral-tiny\",\n",
    "        \"messages\": [{\"role\": \"user\", \"content\": prompt}]\n",
    "    }\n",
    "    response = requests.post(api_url, headers=headers, data=json.dumps(data))\n",
    "    return response.json()[\"choices\"][0][\"message\"][\"content\"]"
   ]
  },
  {
   "cell_type": "code",
   "execution_count": 30,
   "id": "4b252231",
   "metadata": {},
   "outputs": [
    {
     "name": "stdout",
     "output_type": "stream",
     "text": [
      "Un développeur web est comme un artisan médiéval : ils cherchent des clients, travaillent longtemps pour créer quelque chose, puis leur client ne veut rien payer et leur demande plus de fonctionnalités. Le seul différence, c'est que l'artisan médiéval peut utiliser une fourche pour vaincre ses clients.\n"
     ]
    }
   ],
   "source": [
    "test_prompt = \"Donne-moi une blague courte sur developpeurs web.\"\n",
    "print(generateText(test_prompt))"
   ]
  },
  {
   "cell_type": "code",
   "execution_count": 18,
   "id": "325982b5",
   "metadata": {},
   "outputs": [],
   "source": [
    "def writeFile(path, content):\n",
    "    with open(path, \"w\", encoding=\"utf-8\") as file:\n",
    "        file.write(content)\n",
    "\n",
    "def launchPythonFile(path):\n",
    "    result = subprocess.run([\"python3\", path], capture_output=True, text=True)\n",
    "    print(result.stdout)\n",
    "    if result.stderr:\n",
    "        print(\"Erreur :\", result.stderr)\n",
    "    return result.stdout, result.stderr"
   ]
  },
  {
   "cell_type": "code",
   "execution_count": null,
   "id": "7e7cc575",
   "metadata": {},
   "outputs": [],
   "source": [
    "# llm_response = generateText(function_prompt)\n",
    "# print(\"Réponse du LLM :\", llm_response)\n",
    "\n",
    "# # Extract only the first JSON object from the response\n",
    "# json_match = re.search(r'\\{.*\\}', llm_response, re.DOTALL)\n",
    "# if not json_match:\n",
    "#     raise ValueError(\"Aucun JSON valide trouvé dans la réponse du LLM.\")\n",
    "\n",
    "# json_str = json_match.group(0)\n",
    "# reponse_json = json.loads(json_str)\n",
    "# func_name = reponse_json[\"function\"]\n",
    "# args = reponse_json[\"args\"]\n",
    "\n",
    "# if func_name == \"writeFile\":\n",
    "#     writeFile(**args)\n",
    "# elif func_name == \"launchPythonFile\":\n",
    "#     launchPythonFile(**args)\n",
    "# else:\n",
    "#     print(\"Fonction non reconnue :\", func_name)"
   ]
  },
  {
   "cell_type": "code",
   "execution_count": null,
   "id": "173c3840",
   "metadata": {},
   "outputs": [],
   "source": [
    "# function_prompt = (\n",
    "#     \"Tu as accès à deux fonctions :\\n\"\n",
    "#     \"- writeFile(path, content): écrit le contenu dans le fichier spécifié.\\n\"\n",
    "#     \"- launchPythonFile(path): exécute un fichier Python.\\n\"\n",
    "#     \"Pour répondre, renvoie un JSON de la forme : \"\n",
    "#     '{\"function\": \"NOM_FONCTION\", \"args\": {\"arg1\": \"valeur\", ...}}.\\n'\n",
    "#     \"Demande : écris un fichier Python qui affiche 'hello world'.\"\n",
    "# )"
   ]
  },
  {
   "cell_type": "code",
   "execution_count": 22,
   "id": "af04bdd7",
   "metadata": {},
   "outputs": [],
   "source": [
    "import json\n",
    "\n",
    "def extract_json_blocks(text):\n",
    "    blocks = []\n",
    "    brace_stack = []\n",
    "    current_block = ''\n",
    "    in_block = False\n",
    "\n",
    "    for char in text:\n",
    "        if char == '{':\n",
    "            brace_stack.append(char)\n",
    "            in_block = True\n",
    "        if in_block:\n",
    "            current_block += char\n",
    "        if char == '}':\n",
    "            brace_stack.pop()\n",
    "            if not brace_stack:\n",
    "                # Fin d’un bloc JSON complet\n",
    "                blocks.append(current_block)\n",
    "                current_block = ''\n",
    "                in_block = False\n",
    "\n",
    "    return blocks\n"
   ]
  },
  {
   "cell_type": "code",
   "execution_count": 23,
   "id": "3cbf9d95",
   "metadata": {},
   "outputs": [],
   "source": [
    "def run_agent(prompt: str, max_step: int = 5):\n",
    "    last_result = \"\"\n",
    "\n",
    "    for step in range(max_step):\n",
    "        if last_result:\n",
    "            prompt_step = prompt + f\"\\nRésultat de la tâche précédente : {last_result}\\n\"\n",
    "        else:\n",
    "            prompt_step = prompt\n",
    "\n",
    "        llm_response = generateText(prompt_step)\n",
    "        print(f\"Étape {step+1} - Réponse du LLM :\\n{llm_response}\")\n",
    "\n",
    "        json_matches = extract_json_blocks(llm_response)\n",
    "\n",
    "        if not json_matches:\n",
    "            print(\"Aucun JSON valide trouvé dans la réponse du LLM.\")\n",
    "            break\n",
    "\n",
    "        for json_str in json_matches:\n",
    "            try:\n",
    "                reponse_json = json.loads(json_str)\n",
    "                func_name = reponse_json.get(\"function\")\n",
    "                args = reponse_json.get(\"args\", {})\n",
    "\n",
    "                if func_name == \"writeFile\":\n",
    "                    writeFile(**args)\n",
    "                    last_result = f\"Fichier {args.get('path')} écrit.\"\n",
    "                elif func_name == \"launchPythonFile\":\n",
    "                    out, err = launchPythonFile(**args)\n",
    "                    last_result = f\"Sortie : {out}\\nErreur : {err}\"\n",
    "                elif func_name == \"stop\":\n",
    "                    print(\"Arrêt demandé par l'agent.\")\n",
    "                    return\n",
    "                else:\n",
    "                    print(\"Fonction non reconnue :\", func_name)\n",
    "                    return\n",
    "            except json.JSONDecodeError as e:\n",
    "                print(\"Erreur de décodage JSON :\", e)\n",
    "                continue\n"
   ]
  },
  {
   "cell_type": "code",
   "execution_count": 24,
   "id": "227b44b7",
   "metadata": {},
   "outputs": [],
   "source": [
    "function_prompt = (\n",
    "    \"Tu as accès à trois fonctions :\\n\"\n",
    "    \"- writeFile(path, content): écrit le contenu dans le fichier spécifié.\\n\"\n",
    "    \"- launchPythonFile(path): exécute un fichier Python.\\n\"\n",
    "    \"- stop(): arrête l'agent si la tâche est terminée.\\n\"\n",
    "    \"Pour chaque étape, renvoie un JSON de la forme : \"\n",
    "    '{\"function\": \"NOM_FONCTION\", \"args\": {\"arg1\": \"valeur\", ...}}.\\n'\n",
    "    \"Ta tâche : écris un fichier Python qui affiche 'hello world', exécute-le, puis arrête-toi.\"\n",
    ")"
   ]
  },
  {
   "cell_type": "code",
   "execution_count": 25,
   "id": "67dc5c8d",
   "metadata": {},
   "outputs": [
    {
     "name": "stdout",
     "output_type": "stream",
     "text": [
      "Étape 1 - Réponse du LLM :\n",
      "Pour réaliser cette tâche, je vais utiliser les fonctions que tu m'as fournies en trois étapes distinctes. Voici les commandes JSON à exécuter :\n",
      "\n",
      "1. Écriture du fichier Python :\n",
      "\n",
      "```\n",
      "{\"function\": \"writeFile\", \"args\": {\"path\": \"hello_world.py\", \"content\": \"print('hello world')\"}}\n",
      "```\n",
      "\n",
      "2. Exécution du fichier Python :\n",
      "\n",
      "```\n",
      "{\"function\": \"launchPythonFile\", \"args\": {\"path\": \"hello_world.py\"}}\n",
      "```\n",
      "\n",
      "3. Arrêt de l'agent :\n",
      "\n",
      "```\n",
      "{\"function\": \"stop\"}\n",
      "```\n",
      "\n",
      "Ces commandes prennent en charge l'écriture d'un fichier Python contenant la chaîne 'hello world', l'exécution de ce fichier et l'arrêt de l'agent.\n",
      "hello world\n",
      "\n",
      "Arrêt demandé par l'agent.\n"
     ]
    }
   ],
   "source": [
    "run_agent(function_prompt, max_step=5)"
   ]
  }
 ],
 "metadata": {
  "kernelspec": {
   "display_name": "Python 3",
   "language": "python",
   "name": "python3"
  },
  "language_info": {
   "codemirror_mode": {
    "name": "ipython",
    "version": 3
   },
   "file_extension": ".py",
   "mimetype": "text/x-python",
   "name": "python",
   "nbconvert_exporter": "python",
   "pygments_lexer": "ipython3",
   "version": "3.11.9"
  }
 },
 "nbformat": 4,
 "nbformat_minor": 5
}
